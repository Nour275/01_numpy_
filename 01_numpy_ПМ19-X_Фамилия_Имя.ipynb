{
 "cells":[
  {
   "cell_type":"markdown",
   "source":[
    "# Numpy"
   ],
   "attachments":{
    
   },
   "metadata":{
    "datalore":{
     "node_id":"ikhgf2PawIpVOBf2xAmDil",
     "type":"MD",
     "hide_input_from_viewers":false,
     "hide_output_from_viewers":false,
     "report_properties":{
      "rowId":"1Va7ZUCfkTVoYBJ03WO21T"
     }
    }
   }
  },
  {
   "cell_type":"markdown",
   "source":[
    "Материалы:\n",
    "* Макрушин С.В. \"Лекция 1: Библиотека Numpy\"\n",
    "* https:\/\/numpy.org\/doc\/stable\/user\/index.html\n",
    "* https:\/\/numpy.org\/doc\/stable\/reference\/index.html"
   ],
   "attachments":{
    
   },
   "metadata":{
    "datalore":{
     "node_id":"uaZw71GmbAKWOpJFvJCX8j",
     "type":"MD",
     "hide_input_from_viewers":false,
     "hide_output_from_viewers":false,
     "report_properties":{
      "rowId":"zIftqR2PDBgwUp9XckX4Y0"
     }
    }
   }
  },
  {
   "cell_type":"markdown",
   "source":[
    "## Задачи для совместного разбора"
   ],
   "attachments":{
    
   },
   "metadata":{
    "datalore":{
     "node_id":"uGOw2FWCWJHHQwFZ1EDsWI",
     "type":"MD",
     "hide_input_from_viewers":false,
     "hide_output_from_viewers":false,
     "report_properties":{
      "rowId":"sHFC6urf8Il51brbG27D26"
     }
    }
   }
  },
  {
   "cell_type":"markdown",
   "source":[
    "1. Сгенерировать двухмерный массив `arr` размерности (4, 7), состоящий из случайных действительных чисел, равномерно распределенных в диапазоне от 0 до 20. Нормализовать значения массива с помощью преобразования вида  $𝑎𝑥+𝑏$  так, что после нормализации максимальный элемент масcива будет равен 1.0, минимальный 0.0"
   ],
   "attachments":{
    
   },
   "metadata":{
    "datalore":{
     "node_id":"uwvAhKoqaCXqlwsVnHcq34",
     "type":"MD",
     "hide_input_from_viewers":false,
     "hide_output_from_viewers":false,
     "report_properties":{
      "rowId":"2sWrZfDTgLCGoNbBtNBhAS"
     }
    }
   }
  },
  {
   "cell_type":"code",
   "source":[
    
   ],
   "execution_count":null,
   "outputs":[
    
   ],
   "metadata":{
    "datalore":{
     "node_id":"puvOrUQhf5tM3AesQOFLxe",
     "type":"CODE",
     "hide_input_from_viewers":false,
     "hide_output_from_viewers":false,
     "report_properties":{
      "rowId":"8yfqHtUfSWAUsYEB9wpXj6"
     }
    }
   }
  },
  {
   "cell_type":"markdown",
   "source":[
    "2. Создать матрицу 8 на 10 из случайных целых (используя модуль `numpy.random`) чисел из диапозона от 0 до 10 и найти в ней строку (ее индекс и вывести саму строку), в которой сумма значений минимальна."
   ],
   "attachments":{
    
   },
   "metadata":{
    "datalore":{
     "node_id":"lG3vAMJ8N6Rbg7h89czj7A",
     "type":"MD",
     "hide_input_from_viewers":false,
     "hide_output_from_viewers":false,
     "report_properties":{
      "rowId":"z7S6xp34A0Lb6euLKc2ne4"
     }
    }
   }
  },
  {
   "cell_type":"markdown",
   "source":[
    "3. Найти евклидово расстояние между двумя одномерными векторами одинаковой размерности."
   ],
   "attachments":{
    
   },
   "metadata":{
    "datalore":{
     "node_id":"wLlSTfXrI79YaxY64hGdbt",
     "type":"MD",
     "hide_input_from_viewers":false,
     "hide_output_from_viewers":false,
     "report_properties":{
      "rowId":"dsxngUEWeMcDGtvHP85JTT"
     }
    }
   }
  },
  {
   "cell_type":"markdown",
   "source":[
    "4. Решить матричное уравнение `A*X*B=-C` - найти матрицу `X`. Где `A = [[-1, 2, 4], [-3, 1, 2], [-3, 0, 1]]`, `B=[[3, -1], [2, 1]]`, `C=[[7, 21], [11, 8], [8, 4]]`."
   ],
   "attachments":{
    
   },
   "metadata":{
    "datalore":{
     "node_id":"6jEyO8xShe7tayYxMdWoM5",
     "type":"MD",
     "hide_input_from_viewers":false,
     "hide_output_from_viewers":false,
     "report_properties":{
      "rowId":"3pYaANTsTEjhHjZVtBJTHe"
     }
    }
   }
  },
  {
   "cell_type":"markdown",
   "source":[
    "## Лабораторная работа №1"
   ],
   "attachments":{
    
   },
   "metadata":{
    "datalore":{
     "node_id":"JqAXXKnuMzgoqacNYPbuWf",
     "type":"MD",
     "hide_input_from_viewers":false,
     "hide_output_from_viewers":false,
     "report_properties":{
      "rowId":"492bUSnhcCVec5B6F79fCQ"
     }
    }
   }
  },
  {
   "cell_type":"markdown",
   "source":[
    "Замечание: при решении данных задач не подразумевается использования циклов или генераторов Python, если в задании не сказано обратного. Решение должно опираться на использования функционала библиотеки `numpy`."
   ],
   "attachments":{
    
   },
   "metadata":{
    "datalore":{
     "node_id":"14Xm7wDOWGdHXmNrP6QDCb",
     "type":"MD",
     "hide_input_from_viewers":false,
     "hide_output_from_viewers":false,
     "report_properties":{
      "rowId":"ihSIXE4L1ccS4zjTHAgtjk"
     }
    }
   }
  },
  {
   "cell_type":"markdown",
   "source":[
    "1. Файл `minutes_n_ingredients.csv` содержит информацию об идентификаторе рецепта, времени его выполнения в минутах и количестве необходимых ингредиентов. Считайте данные из этого файла в виде массива `numpy` типа `int32`, используя `np.loadtxt`. Выведите на экран первые 5 строк массива."
   ],
   "attachments":{
    
   },
   "metadata":{
    "datalore":{
     "node_id":"vvWkZ029wCYDCGwtIRy0ow",
     "type":"MD",
     "hide_input_from_viewers":false,
     "hide_output_from_viewers":false,
     "report_properties":{
      "rowId":"klp5G00yp8C6NmLqdi0UvY"
     }
    }
   }
  },
  {
   "cell_type":"code",
   "source":[
    "import numpy as np\n",
    "\n",
    "# Load the data from csv file and skip the header row\n",
    "data = np.loadtxt('minutes_n_ingredients.csv', delimiter=',', skiprows=1, dtype=np.int32)\n",
    "\n",
    "# Display the first 5 rows of the array\n",
    "print(data[:5])"
   ],
   "execution_count":7,
   "outputs":[
    {
     "name":"stdout",
     "text":[
      "[[127244     60     16]\n",
      " [ 23891     25      7]\n",
      " [ 94746     10      6]\n",
      " [ 67660      5      6]\n",
      " [157911     60     14]]\n"
     ],
     "output_type":"stream"
    }
   ],
   "metadata":{
    "datalore":{
     "node_id":"CwoUt2qTgJRWdzG1BAGDWA",
     "type":"CODE",
     "hide_input_from_viewers":true,
     "hide_output_from_viewers":true
    }
   }
  },
  {
   "cell_type":"markdown",
   "source":[
    "2. Вычислите среднее значение, минимум, максимум и медиану по каждому из столбцов, кроме первого."
   ],
   "attachments":{
    
   },
   "metadata":{
    "datalore":{
     "node_id":"73IS7Ax2iiU61e00MZkO8p",
     "type":"MD",
     "hide_input_from_viewers":false,
     "hide_output_from_viewers":false,
     "report_properties":{
      "rowId":"4PYwcg6C9dp9ooMkXvaT0b"
     }
    }
   }
  },
  {
   "cell_type":"code",
   "source":[
    "import numpy as np\n",
    "import pandas as pd\n",
    "\n",
    "# Load the data from the csv file\n",
    "data = pd.read_csv('minutes_n_ingredients.csv')\n",
    "\n",
    "# Extract the columns of interest\n",
    "minutes = data['minutes']\n",
    "ingredients = data['n_ingredients']\n",
    "\n",
    "# Calculate the mean, minimum, maximum, and median for each column\n",
    "mean_minutes = np.mean(minutes)\n",
    "min_minutes = np.min(minutes)\n",
    "max_minutes = np.max(minutes)\n",
    "median_minutes = np.median(minutes)\n",
    "\n",
    "mean_ingredients = np.mean(ingredients)\n",
    "min_ingredients = np.min(ingredients)\n",
    "max_ingredients = np.max(ingredients)\n",
    "median_ingredients = np.median(ingredients)\n",
    "\n",
    "# Print the results\n",
    "print('Minutes column:')\n",
    "print('Mean:', mean_minutes)\n",
    "print('Minimum:', min_minutes)\n",
    "print('Maximum:', max_minutes)\n",
    "print('Median:', median_minutes)\n",
    "print()\n",
    "\n",
    "print('Ingredients column:')\n",
    "print('Mean:', mean_ingredients)\n",
    "print('Minimum:', min_ingredients)\n",
    "print('Maximum:', max_ingredients)\n",
    "print('Median:', median_ingredients)"
   ],
   "execution_count":1,
   "outputs":[
    {
     "name":"stdout",
     "text":[
      "Minutes column:\n",
      "Mean: 21601.00169\n",
      "Minimum: 0\n",
      "Maximum: 2147483647\n",
      "Median: 40.0\n",
      "\n",
      "Ingredients column:\n",
      "Mean: 9.05528\n",
      "Minimum: 1\n",
      "Maximum: 39\n",
      "Median: 9.0\n"
     ],
     "output_type":"stream"
    }
   ],
   "metadata":{
    "datalore":{
     "node_id":"KGXGiJIZe0KF5kAT4FmL1R",
     "type":"CODE",
     "hide_input_from_viewers":true,
     "hide_output_from_viewers":true
    }
   }
  },
  {
   "cell_type":"markdown",
   "source":[
    "3. Ограничьте сверху значения продолжительности выполнения рецепта значением квантиля $q_{0.75}$. "
   ],
   "attachments":{
    
   },
   "metadata":{
    "datalore":{
     "node_id":"gyUlGW8oWx9TpXgkvuDPuQ",
     "type":"MD",
     "hide_input_from_viewers":false,
     "hide_output_from_viewers":false,
     "report_properties":{
      "rowId":"hDd1y0mGH58hpl9fjyYQdd"
     }
    }
   }
  },
  {
   "cell_type":"code",
   "source":[
    
   ],
   "execution_count":null,
   "outputs":[
    
   ],
   "metadata":{
    "datalore":{
     "node_id":"dZDqsvACv1E7AFkHuw2UvB",
     "type":"CODE",
     "hide_input_from_viewers":true,
     "hide_output_from_viewers":true
    }
   }
  },
  {
   "cell_type":"markdown",
   "source":[
    "4. Посчитайте, для скольких рецептов указана продолжительность, равная нулю. Замените для таких строк значение в данном столбце на 1."
   ],
   "attachments":{
    
   },
   "metadata":{
    "datalore":{
     "node_id":"zXONdrw8sr0euI9wLKEndG",
     "type":"MD",
     "hide_input_from_viewers":false,
     "hide_output_from_viewers":false,
     "report_properties":{
      "rowId":"odD74vh3FTJ9qLrgsJxQ1C"
     }
    }
   }
  },
  {
   "cell_type":"code",
   "source":[
    "import numpy as np\n",
    "import pandas as pd\n",
    "\n",
    "# load the data\n",
    "df = pd.read_csv('minutes_n_ingredients.csv')\n",
    "\n",
    "# count how many recipes have a duration of zero\n",
    "num_duration_zero = (df['minutes'] == 0).sum()\n",
    "\n",
    "# replace the duration values for those recipes with 1 using numpy\n",
    "df.loc[df['minutes'] == 0, 'minutes'] = np.ones(num_duration_zero)"
   ],
   "execution_count":7,
   "outputs":[
    
   ],
   "metadata":{
    "datalore":{
     "node_id":"4N6w1iAz58LHNDwdOVdGcL",
     "type":"CODE",
     "hide_input_from_viewers":true,
     "hide_output_from_viewers":true
    }
   }
  },
  {
   "cell_type":"markdown",
   "source":[
    "5. Посчитайте, сколько уникальных рецептов находится в датасете."
   ],
   "attachments":{
    
   },
   "metadata":{
    "datalore":{
     "node_id":"Fd3MEZ58DzxxmoJoMAHt04",
     "type":"MD",
     "hide_input_from_viewers":false,
     "hide_output_from_viewers":false,
     "report_properties":{
      "rowId":"GFRG1L1AFJ4Ds1eeAezbxc"
     }
    }
   }
  },
  {
   "cell_type":"code",
   "source":[
    "import numpy as np\n",
    "\n",
    "data = np.genfromtxt(\"minutes_n_ingredients.csv\", dtype=str, delimiter=\",\", skip_header=1)\n",
    "recipe_names = data[:, 0]\n",
    "unique_recipe_names = np.unique(recipe_names)\n",
    "unique_recipe_count = np.size(unique_recipe_names)\n",
    "\n",
    "print(unique_recipe_count)"
   ],
   "execution_count":2,
   "outputs":[
    {
     "name":"stdout",
     "text":[
      "100000\n"
     ],
     "output_type":"stream"
    }
   ],
   "metadata":{
    "datalore":{
     "node_id":"ZiEqqkIUmbYhnMIXADKWdc",
     "type":"CODE",
     "hide_input_from_viewers":true,
     "hide_output_from_viewers":true
    }
   }
  },
  {
   "cell_type":"markdown",
   "source":[
    "6. Сколько и каких различных значений кол-ва ингредиентов присутвует в рецептах из датасета?"
   ],
   "attachments":{
    
   },
   "metadata":{
    "datalore":{
     "node_id":"Fhc65YfNdsR345KpBXaxHa",
     "type":"MD",
     "hide_input_from_viewers":false,
     "hide_output_from_viewers":false,
     "report_properties":{
      "rowId":"DVQ6Pc9wX7fM7zMtaLiEB1"
     }
    }
   }
  },
  {
   "cell_type":"code",
   "source":[
    "import numpy as np\n",
    "\n",
    "data = np.genfromtxt('minutes_n_ingredients.csv', delimiter=',', skip_header=True)\n",
    "\n",
    "n_ingredients = data[:, 1]\n",
    "\n",
    "unique_ingredients_counts = np.unique(n_ingredients)\n",
    "\n",
    "print(unique_ingredients_counts)"
   ],
   "execution_count":3,
   "outputs":[
    {
     "name":"stdout",
     "text":[
      "[0.00000000e+00 1.00000000e+00 2.00000000e+00 3.00000000e+00\n",
      " 4.00000000e+00 5.00000000e+00 6.00000000e+00 7.00000000e+00\n",
      " 8.00000000e+00 9.00000000e+00 1.00000000e+01 1.10000000e+01\n",
      " 1.20000000e+01 1.30000000e+01 1.40000000e+01 1.50000000e+01\n",
      " 1.60000000e+01 1.70000000e+01 1.80000000e+01 1.90000000e+01\n",
      " 2.00000000e+01 2.10000000e+01 2.20000000e+01 2.30000000e+01\n",
      " 2.40000000e+01 2.50000000e+01 2.60000000e+01 2.70000000e+01\n",
      " 2.80000000e+01 2.90000000e+01 3.00000000e+01 3.10000000e+01\n",
      " 3.20000000e+01 3.30000000e+01 3.40000000e+01 3.50000000e+01\n",
      " 3.60000000e+01 3.70000000e+01 3.80000000e+01 3.90000000e+01\n",
      " 4.00000000e+01 4.10000000e+01 4.20000000e+01 4.30000000e+01\n",
      " 4.40000000e+01 4.50000000e+01 4.60000000e+01 4.70000000e+01\n",
      " 4.80000000e+01 4.90000000e+01 5.00000000e+01 5.10000000e+01\n",
      " 5.20000000e+01 5.30000000e+01 5.40000000e+01 5.50000000e+01\n",
      " 5.60000000e+01 5.70000000e+01 5.80000000e+01 5.90000000e+01\n",
      " 6.00000000e+01 6.10000000e+01 6.20000000e+01 6.30000000e+01\n",
      " 6.40000000e+01 6.50000000e+01 6.60000000e+01 6.70000000e+01\n",
      " 6.80000000e+01 6.90000000e+01 7.00000000e+01 7.10000000e+01\n",
      " 7.20000000e+01 7.30000000e+01 7.40000000e+01 7.50000000e+01\n",
      " 7.60000000e+01 7.70000000e+01 7.80000000e+01 7.90000000e+01\n",
      " 8.00000000e+01 8.10000000e+01 8.20000000e+01 8.30000000e+01\n",
      " 8.40000000e+01 8.50000000e+01 8.60000000e+01 8.70000000e+01\n",
      " 8.80000000e+01 8.90000000e+01 9.00000000e+01 9.10000000e+01\n",
      " 9.20000000e+01 9.30000000e+01 9.40000000e+01 9.50000000e+01\n",
      " 9.60000000e+01 9.70000000e+01 9.80000000e+01 9.90000000e+01\n",
      " 1.00000000e+02 1.01000000e+02 1.02000000e+02 1.03000000e+02\n",
      " 1.04000000e+02 1.05000000e+02 1.06000000e+02 1.07000000e+02\n",
      " 1.08000000e+02 1.09000000e+02 1.10000000e+02 1.11000000e+02\n",
      " 1.12000000e+02 1.14000000e+02 1.15000000e+02 1.16000000e+02\n",
      " 1.17000000e+02 1.18000000e+02 1.20000000e+02 1.21000000e+02\n",
      " 1.22000000e+02 1.23000000e+02 1.24000000e+02 1.25000000e+02\n",
      " 1.26000000e+02 1.27000000e+02 1.28000000e+02 1.29000000e+02\n",
      " 1.30000000e+02 1.32000000e+02 1.34000000e+02 1.35000000e+02\n",
      " 1.36000000e+02 1.37000000e+02 1.38000000e+02 1.40000000e+02\n",
      " 1.41000000e+02 1.42000000e+02 1.43000000e+02 1.44000000e+02\n",
      " 1.45000000e+02 1.47000000e+02 1.49000000e+02 1.50000000e+02\n",
      " 1.51000000e+02 1.52000000e+02 1.53000000e+02 1.54000000e+02\n",
      " 1.55000000e+02 1.56000000e+02 1.57000000e+02 1.58000000e+02\n",
      " 1.59000000e+02 1.60000000e+02 1.61000000e+02 1.62000000e+02\n",
      " 1.64000000e+02 1.65000000e+02 1.66000000e+02 1.68000000e+02\n",
      " 1.70000000e+02 1.71000000e+02 1.72000000e+02 1.73000000e+02\n",
      " 1.74000000e+02 1.75000000e+02 1.76000000e+02 1.77000000e+02\n",
      " 1.78000000e+02 1.80000000e+02 1.81000000e+02 1.82000000e+02\n",
      " 1.83000000e+02 1.84000000e+02 1.85000000e+02 1.86000000e+02\n",
      " 1.87000000e+02 1.88000000e+02 1.89000000e+02 1.90000000e+02\n",
      " 1.92000000e+02 1.93000000e+02 1.95000000e+02 1.96000000e+02\n",
      " 1.97000000e+02 2.00000000e+02 2.01000000e+02 2.04000000e+02\n",
      " 2.05000000e+02 2.06000000e+02 2.09000000e+02 2.10000000e+02\n",
      " 2.12000000e+02 2.13000000e+02 2.14000000e+02 2.15000000e+02\n",
      " 2.17000000e+02 2.18000000e+02 2.20000000e+02 2.21000000e+02\n",
      " 2.22000000e+02 2.23000000e+02 2.25000000e+02 2.28000000e+02\n",
      " 2.30000000e+02 2.35000000e+02 2.40000000e+02 2.41000000e+02\n",
      " 2.42000000e+02 2.43000000e+02 2.45000000e+02 2.46000000e+02\n",
      " 2.47000000e+02 2.48000000e+02 2.50000000e+02 2.52000000e+02\n",
      " 2.54000000e+02 2.55000000e+02 2.56000000e+02 2.57000000e+02\n",
      " 2.58000000e+02 2.60000000e+02 2.65000000e+02 2.70000000e+02\n",
      " 2.72000000e+02 2.75000000e+02 2.77000000e+02 2.78000000e+02\n",
      " 2.80000000e+02 2.84000000e+02 2.85000000e+02 2.89000000e+02\n",
      " 2.90000000e+02 2.95000000e+02 3.00000000e+02 3.01000000e+02\n",
      " 3.02000000e+02 3.03000000e+02 3.04000000e+02 3.05000000e+02\n",
      " 3.06000000e+02 3.07000000e+02 3.08000000e+02 3.10000000e+02\n",
      " 3.12000000e+02 3.14000000e+02 3.15000000e+02 3.18000000e+02\n",
      " 3.19000000e+02 3.20000000e+02 3.21000000e+02 3.25000000e+02\n",
      " 3.30000000e+02 3.35000000e+02 3.40000000e+02 3.45000000e+02\n",
      " 3.50000000e+02 3.60000000e+02 3.62000000e+02 3.63000000e+02\n",
      " 3.65000000e+02 3.66000000e+02 3.67000000e+02 3.68000000e+02\n",
      " 3.69000000e+02 3.70000000e+02 3.72000000e+02 3.75000000e+02\n",
      " 3.76000000e+02 3.80000000e+02 3.81000000e+02 3.82000000e+02\n",
      " 3.85000000e+02 3.90000000e+02 3.94000000e+02 3.95000000e+02\n",
      " 4.00000000e+02 4.05000000e+02 4.10000000e+02 4.15000000e+02\n",
      " 4.20000000e+02 4.21000000e+02 4.25000000e+02 4.30000000e+02\n",
      " 4.32000000e+02 4.35000000e+02 4.40000000e+02 4.45000000e+02\n",
      " 4.50000000e+02 4.55000000e+02 4.60000000e+02 4.65000000e+02\n",
      " 4.70000000e+02 4.75000000e+02 4.80000000e+02 4.81000000e+02\n",
      " 4.82000000e+02 4.83000000e+02 4.84000000e+02 4.85000000e+02\n",
      " 4.86000000e+02 4.87000000e+02 4.88000000e+02 4.90000000e+02\n",
      " 4.92000000e+02 4.94000000e+02 4.95000000e+02 4.97000000e+02\n",
      " 5.00000000e+02 5.05000000e+02 5.07000000e+02 5.10000000e+02\n",
      " 5.12000000e+02 5.15000000e+02 5.16000000e+02 5.20000000e+02\n",
      " 5.24000000e+02 5.25000000e+02 5.26000000e+02 5.30000000e+02\n",
      " 5.35000000e+02 5.38000000e+02 5.40000000e+02 5.41000000e+02\n",
      " 5.45000000e+02 5.50000000e+02 5.55000000e+02 5.60000000e+02\n",
      " 5.65000000e+02 5.70000000e+02 5.76000000e+02 5.80000000e+02\n",
      " 5.85000000e+02 5.90000000e+02 6.00000000e+02 6.02000000e+02\n",
      " 6.03000000e+02 6.05000000e+02 6.07000000e+02 6.08000000e+02\n",
      " 6.10000000e+02 6.12000000e+02 6.15000000e+02 6.20000000e+02\n",
      " 6.25000000e+02 6.30000000e+02 6.35000000e+02 6.40000000e+02\n",
      " 6.45000000e+02 6.48000000e+02 6.50000000e+02 6.60000000e+02\n",
      " 6.65000000e+02 6.70000000e+02 6.75000000e+02 6.80000000e+02\n",
      " 6.90000000e+02 6.93000000e+02 7.05000000e+02 7.10000000e+02\n",
      " 7.20000000e+02 7.22000000e+02 7.25000000e+02 7.28000000e+02\n",
      " 7.29000000e+02 7.30000000e+02 7.35000000e+02 7.40000000e+02\n",
      " 7.45000000e+02 7.50000000e+02 7.55000000e+02 7.60000000e+02\n",
      " 7.65000000e+02 7.70000000e+02 7.75000000e+02 7.80000000e+02\n",
      " 7.85000000e+02 7.90000000e+02 7.95000000e+02 8.00000000e+02\n",
      " 8.05000000e+02 8.10000000e+02 8.25000000e+02 8.30000000e+02\n",
      " 8.34000000e+02 8.40000000e+02 8.43000000e+02 8.48000000e+02\n",
      " 8.50000000e+02 8.55000000e+02 8.56000000e+02 8.60000000e+02\n",
      " 8.70000000e+02 8.85000000e+02 9.00000000e+02 9.02000000e+02\n",
      " 9.15000000e+02 9.20000000e+02 9.30000000e+02 9.40000000e+02\n",
      " 9.45000000e+02 9.60000000e+02 9.64000000e+02 9.70000000e+02\n",
      " 9.75000000e+02 9.80000000e+02 9.90000000e+02 1.02000000e+03\n",
      " 1.03000000e+03 1.04000000e+03 1.08000000e+03 1.09000000e+03\n",
      " 1.09500000e+03 1.10500000e+03 1.11000000e+03 1.12500000e+03\n",
      " 1.14000000e+03 1.16000000e+03 1.17000000e+03 1.20000000e+03\n",
      " 1.21000000e+03 1.21500000e+03 1.22000000e+03 1.23000000e+03\n",
      " 1.23500000e+03 1.24500000e+03 1.26000000e+03 1.27200000e+03\n",
      " 1.28000000e+03 1.29000000e+03 1.33000000e+03 1.42500000e+03\n",
      " 1.44000000e+03 1.44100000e+03 1.44200000e+03 1.44300000e+03\n",
      " 1.44400000e+03 1.44500000e+03 1.44700000e+03 1.44800000e+03\n",
      " 1.44900000e+03 1.45000000e+03 1.45200000e+03 1.45400000e+03\n",
      " 1.45500000e+03 1.45600000e+03 1.46000000e+03 1.46200000e+03\n",
      " 1.46500000e+03 1.47000000e+03 1.47500000e+03 1.48000000e+03\n",
      " 1.48500000e+03 1.49000000e+03 1.49500000e+03 1.50000000e+03\n",
      " 1.50400000e+03 1.50500000e+03 1.51000000e+03 1.51500000e+03\n",
      " 1.52000000e+03 1.52500000e+03 1.53000000e+03 1.53500000e+03\n",
      " 1.54000000e+03 1.54500000e+03 1.55000000e+03 1.56000000e+03\n",
      " 1.56200000e+03 1.57500000e+03 1.58000000e+03 1.59000000e+03\n",
      " 1.59500000e+03 1.62000000e+03 1.68000000e+03 1.68500000e+03\n",
      " 1.69500000e+03 1.72500000e+03 1.74000000e+03 1.77000000e+03\n",
      " 1.80000000e+03 1.81000000e+03 1.81500000e+03 1.82000000e+03\n",
      " 1.83000000e+03 1.85000000e+03 1.86000000e+03 1.86500000e+03\n",
      " 1.87500000e+03 1.89000000e+03 1.92000000e+03 1.93500000e+03\n",
      " 1.98000000e+03 2.04000000e+03 2.16000000e+03 2.16500000e+03\n",
      " 2.19000000e+03 2.22000000e+03 2.29500000e+03 2.34000000e+03\n",
      " 2.40000000e+03 2.41000000e+03 2.41500000e+03 2.43000000e+03\n",
      " 2.49000000e+03 2.64000000e+03 2.88000000e+03 2.88100000e+03\n",
      " 2.88500000e+03 2.88700000e+03 2.89000000e+03 2.89200000e+03\n",
      " 2.89500000e+03 2.90000000e+03 2.90500000e+03 2.91000000e+03\n",
      " 2.92000000e+03 2.92500000e+03 2.93000000e+03 2.94000000e+03\n",
      " 2.95000000e+03 2.95500000e+03 2.97000000e+03 3.00000000e+03\n",
      " 3.03000000e+03 3.03500000e+03 3.06000000e+03 3.07000000e+03\n",
      " 3.12000000e+03 3.18000000e+03 3.24000000e+03 3.36000000e+03\n",
      " 3.39000000e+03 3.61000000e+03 3.61500000e+03 4.08000000e+03\n",
      " 4.21500000e+03 4.32000000e+03 4.32100000e+03 4.32500000e+03\n",
      " 4.33000000e+03 4.33500000e+03 4.34000000e+03 4.34500000e+03\n",
      " 4.35000000e+03 4.35500000e+03 4.36500000e+03 4.38000000e+03\n",
      " 4.38500000e+03 4.41500000e+03 4.44000000e+03 4.50000000e+03\n",
      " 4.54500000e+03 4.56000000e+03 4.59000000e+03 4.62000000e+03\n",
      " 4.92000000e+03 5.04000000e+03 5.35000000e+03 5.76000000e+03\n",
      " 5.76500000e+03 5.77000000e+03 5.77500000e+03 5.78000000e+03\n",
      " 5.79000000e+03 5.82000000e+03 5.85000000e+03 5.88000000e+03\n",
      " 7.20000000e+03 7.20500000e+03 7.21000000e+03 7.21500000e+03\n",
      " 7.22000000e+03 7.22500000e+03 7.23000000e+03 7.44000000e+03\n",
      " 8.64000000e+03 8.65000000e+03 8.65500000e+03 8.67500000e+03\n",
      " 8.76000000e+03 9.01500000e+03 9.12000000e+03 9.74000000e+03\n",
      " 1.00800000e+04 1.00820000e+04 1.00850000e+04 1.00900000e+04\n",
      " 1.00950000e+04 1.01000000e+04 1.01050000e+04 1.01100000e+04\n",
      " 1.01400000e+04 1.03200000e+04 1.04400000e+04 1.15200000e+04\n",
      " 1.15210000e+04 1.15500000e+04 1.15650000e+04 1.44050000e+04\n",
      " 1.44200000e+04 1.44250000e+04 1.44300000e+04 1.44500000e+04\n",
      " 1.44600000e+04 1.58800000e+04 1.59000000e+04 1.73100000e+04\n",
      " 1.87200000e+04 1.87250000e+04 2.01600000e+04 2.01610000e+04\n",
      " 2.01630000e+04 2.01650000e+04 2.01700000e+04 2.01750000e+04\n",
      " 2.01900000e+04 2.02800000e+04 2.03400000e+04 2.16000000e+04\n",
      " 2.16900000e+04 2.30500000e+04 2.61000000e+04 2.88100000e+04\n",
      " 3.02400000e+04 3.02550000e+04 3.02700000e+04 3.45700000e+04\n",
      " 3.60150000e+04 4.03250000e+04 4.17750000e+04 4.32000000e+04\n",
      " 4.32020000e+04 4.32050000e+04 4.32300000e+04 4.32500000e+04\n",
      " 4.33800000e+04 4.46450000e+04 4.46550000e+04 5.04050000e+04\n",
      " 6.05400000e+04 6.05550000e+04 6.48150000e+04 6.91200000e+04\n",
      " 8.64000000e+04 8.64050000e+04 1.15230000e+05 1.29615000e+05\n",
      " 1.29620000e+05 1.32495000e+05 1.46880000e+05 2.01610000e+05\n",
      " 2.16015000e+05 2.59205000e+05 2.59260000e+05 2.14748365e+09]\n"
     ],
     "output_type":"stream"
    }
   ],
   "metadata":{
    "datalore":{
     "node_id":"9QTlu6XLeofDlrKGpPy3WZ",
     "type":"CODE",
     "hide_input_from_viewers":true,
     "hide_output_from_viewers":true
    }
   }
  },
  {
   "cell_type":"markdown",
   "source":[
    "7. Создайте версию массива, содержащую информацию только о рецептах, состоящих не более чем из 5 ингредиентов."
   ],
   "attachments":{
    
   },
   "metadata":{
    "datalore":{
     "node_id":"bS4u4aEAPxIVR2qp6SXofW",
     "type":"MD",
     "hide_input_from_viewers":false,
     "hide_output_from_viewers":false,
     "report_properties":{
      "rowId":"98Pqyb5rLUkQ2ebf8rITeG"
     }
    }
   }
  },
  {
   "cell_type":"code",
   "source":[
    "import numpy as np\n",
    "\n",
    "data = np.genfromtxt('minutes_n_ingredients.csv', delimiter=',', dtype=str)\n",
    "\n",
    "new_data = []\n",
    "for n_ingredients in data:\n",
    "    if len(n_ingredients[1:]) <= 5:\n",
    "        new_data.append(n_ingredients)\n",
    "\n",
    "new_data = np.array(new_data)\n",
    "\n",
    "np.savetxt('less_than_five_ingredients.csv', new_data, delimiter=',', fmt='%s')"
   ],
   "execution_count":6,
   "outputs":[
    
   ],
   "metadata":{
    "datalore":{
     "node_id":"CzS21MuWjbGAPkOcxucaWI",
     "type":"CODE",
     "hide_input_from_viewers":true,
     "hide_output_from_viewers":true
    }
   }
  },
  {
   "cell_type":"markdown",
   "source":[
    "8. Для каждого рецепта посчитайте, сколько в среднем ингредиентов приходится на одну минуту рецепта. Найдите максимальное значение этой величины для всего датасета"
   ],
   "attachments":{
    
   },
   "metadata":{
    "datalore":{
     "node_id":"318YjdNqbzNIqt0Y9fIQPp",
     "type":"MD",
     "hide_input_from_viewers":false,
     "hide_output_from_viewers":false,
     "report_properties":{
      "rowId":"pfrhKGcB5BvctQ7FDq3G0r"
     }
    }
   }
  },
  {
   "cell_type":"code",
   "source":[
    "import pandas as pd\n",
    "import numpy as np\n",
    "df = pd.read_csv(\"minutes_n_ingredients.csv\")\n",
    "df[\"avg_ing_per_min\"] = df[\"n_ingredients\"] \/ df[\"minutes\"]\n",
    "max_avg_ing_per_min = np.max(df[\"avg_ing_per_min\"])\n",
    "\n",
    "print(\"Maximum average number of ingredients per minute:\", max_avg_ing_per_min)"
   ],
   "execution_count":8,
   "outputs":[
    {
     "name":"stdout",
     "text":[
      "Maximum average number of ingredients per minute: inf\n"
     ],
     "output_type":"stream"
    }
   ],
   "metadata":{
    "datalore":{
     "node_id":"mzGCr3z9FFNgGiGNJEiXkE",
     "type":"CODE",
     "hide_input_from_viewers":true,
     "hide_output_from_viewers":true
    }
   }
  },
  {
   "cell_type":"code",
   "source":[
    "import numpy as np\n",
    "import pandas as pd\n",
    "\n",
    "data = pd.read_csv('minutes_n_ingredients.csv')\n",
    "data['ingredients_per_minute'] = data['n_ingredients'] \/ data['minutes']\n",
    "max_value = np.max(data['ingredients_per_minute'])\n",
    "print(max_value)"
   ],
   "execution_count":15,
   "outputs":[
    {
     "name":"stdout",
     "text":[
      "inf\n"
     ],
     "output_type":"stream"
    }
   ],
   "metadata":{
    "datalore":{
     "node_id":"MtwRJcVWem1WOWfH3MbNFg",
     "type":"CODE",
     "hide_input_from_viewers":true,
     "hide_output_from_viewers":true
    }
   }
  },
  {
   "cell_type":"markdown",
   "source":[
    "9. Вычислите среднее количество ингредиентов для топ-100 рецептов с наибольшей продолжительностью"
   ],
   "attachments":{
    
   },
   "metadata":{
    "datalore":{
     "node_id":"jINV6TSMhCqD0uCb9bvz4l",
     "type":"MD",
     "hide_input_from_viewers":false,
     "hide_output_from_viewers":false,
     "report_properties":{
      "rowId":"jKwjCOXMhsGyrkXdVFgIKv"
     }
    }
   }
  },
  {
   "cell_type":"code",
   "source":[
    "import numpy as np\n",
    "\n",
    "data = np.genfromtxt('minutes_n_ingredients.csv', delimiter=',', skip_header=1)\n",
    "\n",
    "minutes = data[:, 0]\n",
    "\n",
    "sorted_minutes = np.sort(minutes)[::-1]\n",
    "\n",
    "top_100_minutes = sorted_minutes[:100]\n",
    "\n",
    "avg_minutes = np.mean(top_100_minutes)\n",
    "\n",
    "print(f\"The average number of minutes for the top 100 recipes is: {avg_minutes:.2f}\")"
   ],
   "execution_count":23,
   "outputs":[
    {
     "name":"stdout",
     "text":[
      "The average number of minutes for the top 100 recipes is: 535690.73\n"
     ],
     "output_type":"stream"
    }
   ],
   "metadata":{
    "datalore":{
     "node_id":"6dpYCKpSCfPVhajcplVSSb",
     "type":"CODE",
     "hide_input_from_viewers":true,
     "hide_output_from_viewers":true
    }
   }
  },
  {
   "cell_type":"markdown",
   "source":[
    "10. Выберите случайным образом и выведите информацию о 10 различных рецептах"
   ],
   "attachments":{
    
   },
   "metadata":{
    "datalore":{
     "node_id":"O8W4oqMav2umLHho7fHoTs",
     "type":"MD",
     "hide_input_from_viewers":false,
     "hide_output_from_viewers":false,
     "report_properties":{
      "rowId":"CSbBuHNqTJDFBuTObicBxy"
     }
    }
   }
  },
  {
   "cell_type":"code",
   "source":[
    "import numpy as np\n",
    "\n",
    "data = np.genfromtxt('minutes_n_ingredients.csv', delimiter=',', dtype=str)\n",
    "\n",
    "data = data[1:]\n",
    "\n",
    "indices = np.random.choice(len(data), size=10, replace=False)\n",
    "\n",
    "for i in indices:\n",
    "    print(data[i])"
   ],
   "execution_count":24,
   "outputs":[
    {
     "name":"stdout",
     "text":[
      "['10965' '15' '6']\n",
      "['116047' '490' '6']\n",
      "['453177' '30' '9']\n",
      "['456138' '25' '6']\n",
      "['278870' '70' '7']\n",
      "['360612' '25' '6']\n",
      "['404482' '30' '19']\n",
      "['90560' '15' '9']\n",
      "['78506' '60' '11']\n",
      "['234836' '68' '8']\n"
     ],
     "output_type":"stream"
    }
   ],
   "metadata":{
    "datalore":{
     "node_id":"QvJtZeQUtIpvwgZ1ghNhsJ",
     "type":"CODE",
     "hide_input_from_viewers":true,
     "hide_output_from_viewers":true
    }
   }
  },
  {
   "cell_type":"markdown",
   "source":[
    "11. Выведите процент рецептов, кол-во ингредиентов в которых меньше среднего."
   ],
   "attachments":{
    
   },
   "metadata":{
    "datalore":{
     "node_id":"ZpBPS91vtvrFqUqE8tfH5B",
     "type":"MD",
     "hide_input_from_viewers":false,
     "hide_output_from_viewers":false,
     "report_properties":{
      "rowId":"EKm3UBqAJJbX6RzeNxLMLv"
     }
    }
   }
  },
  {
   "cell_type":"code",
   "source":[
    "import numpy as np\n",
    "import pandas as pd\n",
    "\n",
    "# Load the dataset\n",
    "df = pd.read_csv('minutes_n_ingredients.csv')\n",
    "\n",
    "# Generate 10 random indices\n",
    "indices = np.random.randint(df.shape[0], size=10)\n",
    "\n",
    "# Display the recipe information for the randomly selected indices\n",
    "for i in indices:\n",
    "    print('Recipe:', df['id'][i])\n",
    "    print('Ingredients:', df['n_ingredients'][i])\n",
    "    print('Preparation time:', df['minutes'][i], 'minutes')\n",
    "    print('-----------------------------')"
   ],
   "execution_count":28,
   "outputs":[
    {
     "name":"stdout",
     "text":[
      "Recipe: 27244\n",
      "Ingredients: 12\n",
      "Preparation time: 240 minutes\n",
      "-----------------------------\n",
      "Recipe: 428928\n",
      "Ingredients: 5\n",
      "Preparation time: 30 minutes\n",
      "-----------------------------\n",
      "Recipe: 90599\n",
      "Ingredients: 6\n",
      "Preparation time: 40 minutes\n",
      "-----------------------------\n",
      "Recipe: 70011\n",
      "Ingredients: 9\n",
      "Preparation time: 60 minutes\n",
      "-----------------------------\n",
      "Recipe: 226810\n",
      "Ingredients: 12\n",
      "Preparation time: 30 minutes\n",
      "-----------------------------\n",
      "Recipe: 55646\n",
      "Ingredients: 7\n",
      "Preparation time: 1450 minutes\n",
      "-----------------------------\n",
      "Recipe: 15156\n",
      "Ingredients: 10\n",
      "Preparation time: 75 minutes\n",
      "-----------------------------\n",
      "Recipe: 316692\n",
      "Ingredients: 5\n",
      "Preparation time: 5 minutes\n",
      "-----------------------------\n",
      "Recipe: 208568\n",
      "Ingredients: 4\n",
      "Preparation time: 40 minutes\n",
      "-----------------------------\n",
      "Recipe: 250135\n",
      "Ingredients: 6\n",
      "Preparation time: 15 minutes\n",
      "-----------------------------\n"
     ],
     "output_type":"stream"
    }
   ],
   "metadata":{
    "datalore":{
     "node_id":"afv8O5h0jZY2l4N9zbLbsL",
     "type":"CODE",
     "hide_input_from_viewers":true,
     "hide_output_from_viewers":true
    }
   }
  },
  {
   "cell_type":"markdown",
   "source":[
    "12. Назовем \"простым\" такой рецепт, длительность выполнения которого не больше 20 минут и кол-во ингредиентов в котором не больше 5. Создайте версию датасета с дополнительным столбцом, значениями которого являются 1, если рецепт простой, и 0 в противном случае."
   ],
   "attachments":{
    
   },
   "metadata":{
    "datalore":{
     "node_id":"KlVhDV91ekVOiupTQsc42A",
     "type":"MD",
     "hide_input_from_viewers":false,
     "hide_output_from_viewers":false,
     "report_properties":{
      "rowId":"zBiCDbs0jukE8qJUzJnroC"
     }
    }
   }
  },
  {
   "cell_type":"code",
   "source":[
    "import pandas as pd\n",
    "import numpy as np\n",
    "recipes_df = pd.read_csv('minutes_n_ingredients.csv', delimiter=',', skip_header=1)\n",
    "\n",
    "recipes_df[\"simple_recipe\"] = recipes_df.apply(lambda row: 1 if row[\"minutes\"] <= 20 and len(row[\"n_ingredients\"]) <= 5 else 0, axis=1)"
   ],
   "execution_count":13,
   "outputs":[
    {
     "ename":"TypeError",
     "evalue":"TypeError: read_csv() got an unexpected keyword argument 'skip_header'",
     "traceback":[
      "\u001b[0;31m---------------------------------------------------------------------------",
      "Traceback (most recent call last)",
      "    at line 3 in <module>",
      "    at line 311 in wrapper(*args, **kwargs)",
      "TypeError: read_csv() got an unexpected keyword argument 'skip_header'"
     ],
     "output_type":"error"
    }
   ],
   "metadata":{
    "datalore":{
     "node_id":"54jF5Wqyi3XlyYUuyeJQyr",
     "type":"CODE",
     "hide_input_from_viewers":true,
     "hide_output_from_viewers":true
    }
   }
  },
  {
   "cell_type":"markdown",
   "source":[
    "13. Выведите процент \"простых\" рецептов в датасете"
   ],
   "attachments":{
    
   },
   "metadata":{
    "datalore":{
     "node_id":"J1tUD3lDr06s5bOK5DNEcx",
     "type":"MD",
     "hide_input_from_viewers":false,
     "hide_output_from_viewers":false,
     "report_properties":{
      "rowId":"qQIECtotUPJTCqEUywz0eL"
     }
    }
   }
  },
  {
   "cell_type":"markdown",
   "source":[
    "14. Разделим рецепты на группы по следующему правилу. Назовем рецепты короткими, если их продолжительность составляет менее 10 минут; стандартными, если их продолжительность составляет более 10, но менее 20 минут; и длинными, если их продолжительность составляет не менее 20 минут. Создайте трехмерный массив, где нулевая ось отвечает за номер группы (короткий, стандартный или длинный рецепт), первая ось - за сам рецепт и вторая ось - за характеристики рецепта. Выберите максимальное количество рецептов из каждой группы таким образом, чтобы было возможно сформировать трехмерный массив. Выведите форму полученного массива."
   ],
   "attachments":{
    
   },
   "metadata":{
    "datalore":{
     "node_id":"9NV7TRzpVl8SIO4eugY22V",
     "type":"MD",
     "hide_input_from_viewers":false,
     "hide_output_from_viewers":false,
     "report_properties":{
      "rowId":"tQH3dYNkrzb95JzAr3V0YR"
     }
    }
   }
  },
  {
   "cell_type":"code",
   "source":[
    "import numpy as np\n",
    "import pandas as pd\n",
    "\n",
    "data = pd.read_csv('minutes_n_ingredients.csv', index_col=0)\n",
    "short_recipes = []\n",
    "standard_recipes = []\n",
    "long_recipes = []\n",
    "\n",
    "for i, row in data.iterrows():\n",
    "    if row['minutes'] < 10 and len(short_recipes) < 10:\n",
    "        short_recipes.append(list(row))\n",
    "    elif row['minutes'] >= 10 and row['minutes'] < 20 and len(standard_recipes) < 10:\n",
    "        standard_recipes.append(list(row))\n",
    "    elif row['minutes'] >= 20 and len(long_recipes) < 10:\n",
    "        long_recipes.append(list(row))\n",
    "recipes = np.array([short_recipes, standard_recipes, long_recipes])\n",
    "print(recipes.shape)"
   ],
   "execution_count":27,
   "outputs":[
    {
     "name":"stdout",
     "text":[
      "(3, 10, 2)\n"
     ],
     "output_type":"stream"
    }
   ],
   "metadata":{
    "datalore":{
     "node_id":"23gtUUyRDjLYVwYxwTbtGy",
     "type":"CODE",
     "hide_input_from_viewers":true,
     "hide_output_from_viewers":true
    }
   }
  }
 ],
 "metadata":{
  "kernelspec":{
   "display_name":"Python",
   "language":"python",
   "name":"python"
  },
  "datalore":{
   "computation_mode":"JUPYTER",
   "package_manager":"pip",
   "base_environment":"default",
   "packages":[
    
   ],
   "report_row_ids":[
    "1Va7ZUCfkTVoYBJ03WO21T",
    "zIftqR2PDBgwUp9XckX4Y0",
    "sHFC6urf8Il51brbG27D26",
    "2sWrZfDTgLCGoNbBtNBhAS",
    "8yfqHtUfSWAUsYEB9wpXj6",
    "z7S6xp34A0Lb6euLKc2ne4",
    "dsxngUEWeMcDGtvHP85JTT",
    "3pYaANTsTEjhHjZVtBJTHe",
    "492bUSnhcCVec5B6F79fCQ",
    "ihSIXE4L1ccS4zjTHAgtjk",
    "klp5G00yp8C6NmLqdi0UvY",
    "4PYwcg6C9dp9ooMkXvaT0b",
    "hDd1y0mGH58hpl9fjyYQdd",
    "odD74vh3FTJ9qLrgsJxQ1C",
    "GFRG1L1AFJ4Ds1eeAezbxc",
    "DVQ6Pc9wX7fM7zMtaLiEB1",
    "98Pqyb5rLUkQ2ebf8rITeG",
    "pfrhKGcB5BvctQ7FDq3G0r",
    "jKwjCOXMhsGyrkXdVFgIKv",
    "CSbBuHNqTJDFBuTObicBxy",
    "EKm3UBqAJJbX6RzeNxLMLv",
    "zBiCDbs0jukE8qJUzJnroC",
    "qQIECtotUPJTCqEUywz0eL",
    "tQH3dYNkrzb95JzAr3V0YR",
    "J77CS4QLOeNBdcecgplgSx"
   ],
   "version":2
  }
 },
 "nbformat":4,
 "nbformat_minor":4
}